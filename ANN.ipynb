{
 "cells": [
  {
   "cell_type": "code",
   "execution_count": 39,
   "metadata": {},
   "outputs": [],
   "source": [
    "import numpy as np\n",
    "import pandas as pd\n",
    "from matplotlib import pyplot as plt\n",
    "%matplotlib inline\n"
   ]
  },
  {
   "cell_type": "code",
   "execution_count": 40,
   "metadata": {},
   "outputs": [],
   "source": [
    "data = pd.read_csv('train.csv')\n",
    "\n",
    "data = np.array(data)\n",
    "m, n = data.shape\n",
    "np.random.shuffle(data) \n",
    "\n",
    "data_test = data[0:1000].T\n",
    "Y_test = data_test[0]\n",
    "X_test = data_test[1:n]\n",
    "X_test = X_test / 255.\n",
    "\n",
    "data_train = data[1000:m].T\n",
    "Y_train = data_train[0]\n",
    "X_train = data_train[1:n]\n",
    "X_train = X_train / 255.\n",
    "_,m_train = X_train.shape"
   ]
  },
  {
   "cell_type": "code",
   "execution_count": 41,
   "metadata": {},
   "outputs": [],
   "source": [
    "def init_params():\n",
    "    w1 = np.random.rand(10,784) -0.5\n",
    "    b1 = np.random.rand(10,1) - 0.5\n",
    "    w2 = np.random.rand(10,10) - 0.5\n",
    "    b2 = np.random.rand(10,1) - 0.5\n",
    "\n",
    "    return w1, b1, w2, b2\n",
    "\n",
    "def ReLu(Z):\n",
    "    return np.maximum(0,Z)\n",
    "\n",
    "def softmax(Z):\n",
    "    return np.exp(Z) / sum(np.exp(Z))\n",
    "\n",
    "def forward_prop(w1,b1,w2,b2,X):\n",
    "    z1 = np.dot(w1,X) + b1\n",
    "    a1 = ReLu(z1)\n",
    "    z2 = np.dot(w2,a1) + b2\n",
    "    a2 = softmax(z2)\n",
    "    return z1,a1,z2,a2\n",
    "\n",
    "def one_hot(Y):\n",
    "    one_hot_Y = np.zeros((Y.size, Y.max() + 1))\n",
    "    one_hot_Y[np.arange(Y.size), Y] = 1\n",
    "    one_hot_Y = one_hot_Y.T\n",
    "    return one_hot_Y\n",
    "\n",
    "def ReLU_deriv(Z):\n",
    "    return Z > 0\n",
    "    \n",
    "def back_prop(z1,a1,z2,a2,w1,w2,X,Y):\n",
    "    m = Y.size\n",
    "    one_hot_Y = one_hot(Y)\n",
    "    dZ2 = a2 - one_hot_Y\n",
    "    dW2 = 1 / m * dZ2.dot(a1.T)\n",
    "    db2 = 1 / m * np.sum(dZ2)\n",
    "    dZ1 = w2.T.dot(dZ2) * ReLU_deriv(z1)\n",
    "    dW1 = 1 / m * dZ1.dot(X.T)\n",
    "    db1 = 1 / m * np.sum(dZ1)\n",
    "    return dW1, db1, dW2, db2\n",
    "\n",
    "def update_params(W1, b1, W2, b2, dW1, db1, dW2, db2, alpha):\n",
    "    W1 = W1 - alpha * dW1\n",
    "    b1 = b1 - alpha * db1    \n",
    "    W2 = W2 - alpha * dW2  \n",
    "    b2 = b2 - alpha * db2    \n",
    "    return W1, b1, W2, b2\n",
    "\n"
   ]
  },
  {
   "cell_type": "code",
   "execution_count": 42,
   "metadata": {},
   "outputs": [],
   "source": [
    "def get_predictions(A2):\n",
    "    return np.argmax(A2, 0)\n",
    "\n",
    "def get_accuracy(predictions, Y):\n",
    "    print(predictions, Y)\n",
    "    return np.sum(predictions == Y) / Y.size\n",
    "\n",
    "def gradient_descent(X, Y, alpha, iterations):\n",
    "    W1, b1, W2, b2 = init_params()\n",
    "    for i in range(iterations):\n",
    "        Z1, A1, Z2, A2 = forward_prop(W1, b1, W2, b2, X)\n",
    "        dW1, db1, dW2, db2 = back_prop(Z1, A1, Z2, A2, W1, W2, X, Y)\n",
    "        W1, b1, W2, b2 = update_params(W1, b1, W2, b2, dW1, db1, dW2, db2, alpha)\n",
    "        if i == iterations - 1:\n",
    "            print(\"Iteration: \", i)\n",
    "            predictions = get_predictions(A2)\n",
    "            print(get_accuracy(predictions, Y))\n",
    "    return W1, b1, W2, b2"
   ]
  },
  {
   "cell_type": "code",
   "execution_count": 43,
   "metadata": {},
   "outputs": [
    {
     "name": "stdout",
     "output_type": "stream",
     "text": [
      "Iteration:  499\n",
      "[2 3 9 ... 3 5 3] [2 3 9 ... 3 7 2]\n",
      "0.8368292682926829\n"
     ]
    }
   ],
   "source": [
    "w1, b1, w2, b2 = gradient_descent(X_train, Y_train, 0.10, 500)"
   ]
  },
  {
   "cell_type": "code",
   "execution_count": 44,
   "metadata": {},
   "outputs": [],
   "source": [
    "def make_predictions(X, W1, b1, W2, b2):\n",
    "    _, _, _, A2 = forward_prop(W1, b1, W2, b2, X)\n",
    "    predictions = get_predictions(A2)\n",
    "    return predictions"
   ]
  },
  {
   "cell_type": "code",
   "execution_count": 45,
   "metadata": {},
   "outputs": [
    {
     "name": "stdout",
     "output_type": "stream",
     "text": [
      "[2 7 5 9 3 7 6 1 9 7 6 1 2 9 9 0 7 1 3 8 7 6 0 5 3 3 9 1 8 4 1 5 1 3 8 2 0\n",
      " 0 5 5 9 3 6 1 3 6 5 9 1 4 6 8 9 7 7 7 0 7 8 9 4 3 9 1 7 6 9 8 1 7 8 1 1 3\n",
      " 2 3 7 0 3 6 4 2 1 7 9 6 2 8 9 4 3 2 7 0 1 8 5 4 2 7 6 5 4 9 6 0 0 1 7 9 0\n",
      " 0 7 4 4 6 3 0 3 9 5 6 1 5 3 0 9 5 6 0 3 1 7 7 6 6 8 6 5 3 8 3 1 6 8 5 1 9\n",
      " 5 1 8 6 7 4 3 1 3 1 7 0 3 5 9 1 3 9 7 8 4 7 7 2 3 4 7 8 9 7 7 3 2 1 1 0 9\n",
      " 0 0 2 8 9 0 8 2 3 1 9 6 5 7 3 0 1 9 2 2 3 4 8 8 7 7 7 9 6 4 2 5 9 2 7 9 2\n",
      " 6 6 4 8 2 6 4 8 5 2 5 9 0 8 1 6 2 7 3 5 9 5 1 4 6 3 7 4 6 4 6 4 7 2 0 6 2\n",
      " 3 1 4 5 9 3 9 7 6 4 2 0 9 0 3 4 8 2 0 6 1 8 8 0 9 3 2 1 2 6 6 4 2 0 1 2 1\n",
      " 0 7 3 6 8 7 7 3 3 8 1 2 6 7 0 6 0 5 8 5 3 4 1 1 4 7 2 3 2 9 9 8 1 2 9 1 6\n",
      " 4 4 5 9 0 2 7 0 8 7 3 2 7 6 0 3 1 6 7 1 2 6 2 3 6 6 6 6 5 8 6 3 4 1 6 7 3\n",
      " 3 0 0 1 3 3 9 7 0 6 0 9 7 0 4 6 1 2 9 4 4 3 4 2 3 1 6 8 8 6 9 5 2 1 0 9 5\n",
      " 2 5 4 1 9 4 3 7 0 0 8 9 3 9 3 6 7 4 3 2 9 8 6 0 1 8 8 6 9 7 9 4 2 1 7 7 5\n",
      " 4 0 9 9 5 1 7 4 4 1 3 0 6 3 2 7 1 5 3 4 6 0 8 6 1 9 8 3 1 2 4 3 3 3 7 4 0\n",
      " 6 0 5 2 2 9 0 3 1 3 3 7 2 8 9 2 4 9 7 7 9 2 8 1 8 6 0 0 3 8 1 3 1 4 3 6 6\n",
      " 8 0 2 8 1 0 8 1 7 1 9 3 8 9 6 2 9 4 2 6 1 0 7 1 3 8 1 1 4 7 4 5 7 9 0 1 0\n",
      " 2 8 6 3 7 9 9 1 6 5 9 8 5 2 5 6 5 9 1 4 0 0 1 7 6 3 0 1 8 9 7 6 8 2 7 8 4\n",
      " 9 6 0 6 7 7 9 8 0 4 6 0 2 0 0 2 2 2 0 9 2 9 9 3 1 1 6 0 3 8 4 8 3 2 6 4 1\n",
      " 1 0 4 7 4 7 9 8 3 5 1 1 7 3 6 8 1 4 1 6 2 3 4 9 1 3 8 9 1 9 4 0 2 0 6 7 7\n",
      " 6 1 3 2 4 3 9 5 2 8 6 5 1 2 8 0 5 7 2 7 4 4 5 7 9 4 3 9 1 2 6 5 1 1 2 8 0\n",
      " 1 7 2 4 0 1 7 1 5 4 6 9 6 6 3 6 3 2 8 7 7 5 7 4 4 4 9 4 0 6 2 9 0 0 7 9 7\n",
      " 1 2 4 0 1 0 1 7 6 1 2 7 3 9 2 1 1 4 7 1 3 1 2 4 2 6 2 9 2 6 4 9 0 6 6 0 7\n",
      " 9 4 1 9 7 7 5 7 4 9 0 3 7 1 0 2 7 2 4 5 5 7 0 8 9 1 9 3 1 0 5 8 0 1 9 8 2\n",
      " 3 6 4 1 2 5 7 5 4 3 2 8 5 5 6 6 4 6 0 5 6 9 7 6 6 9 4 4 2 2 2 9 2 2 2 1 3\n",
      " 9 0 7 1 9 9 5 8 2 6 3 8 3 0 6 9 3 0 6 7 1 3 4 5 2 4 2 0 3 0 5 1 8 1 4 3 6\n",
      " 3 3 0 1 8 7 3 3 1 6 1 5 0 7 8 2 0 4 5 9 7 4 2 5 8 3 8 9 7 9 7 8 9 6 7 3 8\n",
      " 8 2 2 2 2 6 4 9 1 3 0 6 2 6 7 9 7 0 4 9 0 1 7 7 5 4 0 8 6 8 7 2 9 5 1 1 3\n",
      " 9 9 6 7 7 4 1 3 5 6 9 6 4 0 9 0 1 8 6 7 3 9 1 7 7 0 3 0 3 1 5 5 7 8 6 7 4\n",
      " 1] [2 7 5 9 3 7 6 1 9 7 6 1 2 9 9 0 3 1 3 8 7 6 0 5 3 3 9 3 8 4 1 5 1 3 8 2 0\n",
      " 0 5 5 9 3 6 1 3 6 5 9 1 7 6 5 7 7 7 7 0 7 4 9 4 3 9 1 7 6 9 8 1 3 8 2 1 8\n",
      " 6 3 7 6 3 6 4 2 1 7 9 5 9 8 9 4 3 2 7 0 2 6 5 6 2 7 6 5 4 9 6 0 0 1 7 9 0\n",
      " 0 3 4 4 6 3 0 5 4 7 6 1 8 3 0 9 5 6 0 7 1 7 7 6 5 8 6 5 5 8 3 7 6 8 5 1 9\n",
      " 5 1 8 2 9 4 2 1 2 1 7 0 3 5 9 1 3 9 7 8 4 7 7 2 3 4 7 8 9 7 7 8 2 1 1 2 9\n",
      " 0 0 2 8 9 0 3 2 3 1 9 6 5 9 3 0 1 9 2 2 8 4 5 8 7 7 7 9 6 4 6 6 9 2 7 9 2\n",
      " 6 6 4 8 2 6 4 8 5 2 5 9 0 8 1 5 2 2 3 5 9 5 1 4 5 3 7 4 6 4 6 9 7 2 0 2 7\n",
      " 3 1 4 5 4 3 9 7 6 9 2 0 9 0 3 4 8 2 0 6 1 8 8 0 9 3 2 1 2 0 6 4 7 0 1 5 1\n",
      " 0 7 3 6 2 7 2 3 3 5 1 2 6 7 0 6 0 0 8 5 3 4 1 1 4 7 2 3 2 9 7 8 1 2 3 1 6\n",
      " 4 4 3 9 0 2 7 5 8 7 3 2 9 5 0 3 1 6 7 1 2 6 2 3 6 6 6 6 5 8 5 3 4 1 6 7 3\n",
      " 3 0 0 1 3 9 9 7 0 1 0 9 7 0 4 6 1 2 9 4 4 5 9 2 3 1 6 5 8 6 9 5 2 1 0 9 5\n",
      " 8 5 4 1 9 9 3 7 0 0 6 9 3 9 9 6 7 4 3 2 9 3 5 0 1 8 8 6 9 7 3 4 2 1 7 7 5\n",
      " 4 0 9 9 5 1 7 4 4 1 0 0 6 2 3 5 1 5 3 4 6 0 8 6 1 9 8 3 1 2 4 3 3 3 8 4 0\n",
      " 6 0 5 2 2 9 0 3 1 3 3 7 3 8 9 8 4 8 7 9 9 2 3 1 8 6 0 0 3 8 1 3 1 4 2 6 6\n",
      " 8 0 4 8 1 0 8 1 3 1 4 5 8 9 6 2 7 4 2 6 1 0 7 1 3 8 1 7 4 9 4 5 3 9 0 1 0\n",
      " 9 2 6 3 7 9 9 1 6 5 9 8 5 2 5 6 5 9 1 4 0 0 1 7 6 3 0 1 8 9 5 6 8 2 7 8 4\n",
      " 9 6 0 6 7 7 7 7 0 4 6 0 3 0 0 2 2 4 0 9 3 9 8 8 1 1 6 0 5 8 4 8 3 2 6 4 1\n",
      " 1 0 4 7 4 7 9 8 3 5 1 8 7 9 4 0 1 4 1 6 2 5 9 9 1 3 8 9 1 9 4 0 2 0 6 7 9\n",
      " 6 1 3 2 4 2 4 5 7 9 6 5 1 2 8 0 8 7 3 7 4 4 3 7 9 4 3 9 1 2 6 5 1 1 2 8 0\n",
      " 1 7 2 4 0 1 7 1 5 4 6 9 6 6 3 6 5 2 8 7 7 5 7 4 4 4 9 4 5 2 2 5 0 0 7 9 7\n",
      " 8 2 4 0 1 0 1 7 6 1 8 7 3 9 2 1 1 2 7 1 3 1 9 4 2 6 2 9 2 6 4 9 0 6 6 0 7\n",
      " 4 4 2 9 7 7 0 9 4 9 0 3 7 1 0 2 7 2 4 5 5 7 0 8 7 1 9 3 1 0 5 8 5 1 9 8 2\n",
      " 3 6 4 1 3 8 7 5 4 3 2 8 5 5 6 6 4 6 0 5 6 9 7 6 6 9 4 4 2 2 2 9 2 3 2 1 3\n",
      " 9 0 7 1 8 9 5 2 2 6 5 8 3 0 6 9 3 0 6 7 1 3 4 3 6 4 2 0 3 0 5 1 8 2 4 3 6\n",
      " 3 2 0 1 8 7 3 3 1 6 1 5 0 7 8 7 0 4 3 9 7 4 2 5 8 3 8 7 7 9 7 8 9 6 7 3 8\n",
      " 8 2 2 6 0 6 4 9 1 3 0 6 2 6 7 9 7 0 9 8 0 1 7 5 5 4 0 8 2 8 7 2 9 5 1 1 3\n",
      " 9 9 6 7 7 4 1 3 4 6 7 6 4 0 9 0 1 7 6 7 3 9 1 7 7 0 3 0 3 1 3 2 7 8 6 7 4\n",
      " 1]\n"
     ]
    },
    {
     "data": {
      "text/plain": [
       "0.847"
      ]
     },
     "execution_count": 45,
     "metadata": {},
     "output_type": "execute_result"
    }
   ],
   "source": [
    "test_predictions = make_predictions(X_test, w1, b1, w2, b2)\n",
    "get_accuracy(test_predictions, Y_test)"
   ]
  }
 ],
 "metadata": {
  "interpreter": {
   "hash": "31f2aee4e71d21fbe5cf8b01ff0e069b9275f58929596ceb00d14d90e3e16cd6"
  },
  "kernelspec": {
   "display_name": "Python 3.8.10 64-bit",
   "language": "python",
   "name": "python3"
  },
  "language_info": {
   "codemirror_mode": {
    "name": "ipython",
    "version": 3
   },
   "file_extension": ".py",
   "mimetype": "text/x-python",
   "name": "python",
   "nbconvert_exporter": "python",
   "pygments_lexer": "ipython3",
   "version": "3.8.10"
  },
  "orig_nbformat": 4
 },
 "nbformat": 4,
 "nbformat_minor": 2
}
